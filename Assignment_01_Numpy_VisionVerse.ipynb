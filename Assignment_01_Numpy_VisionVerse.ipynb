{
  "nbformat": 4,
  "nbformat_minor": 0,
  "metadata": {
    "colab": {
      "provenance": []
    },
    "kernelspec": {
      "name": "python3",
      "display_name": "Python 3"
    },
    "language_info": {
      "name": "python"
    }
  },
  "cells": [
    {
      "cell_type": "markdown",
      "source": [
        "Save a copy in Drive of the given notebook and make changes.\n",
        "\n",
        "Output for each of the questions is provided below each question. You need to produce the same output."
      ],
      "metadata": {
        "id": "DRMwEtL9TMHl"
      }
    },
    {
      "cell_type": "code",
      "source": [
        "import numpy as np"
      ],
      "metadata": {
        "id": "VeuI0DyQTq50"
      },
      "execution_count": null,
      "outputs": []
    },
    {
      "cell_type": "markdown",
      "source": [
        " 1. Create a 4x6 matrix filled with all zeros."
      ],
      "metadata": {
        "id": "vzpMMu5tlLQl"
      }
    },
    {
      "cell_type": "code",
      "source": [
        "a = np.zeros((4, 6))\n",
        "print(a)"
      ],
      "metadata": {
        "colab": {
          "base_uri": "https://localhost:8080/"
        },
        "id": "n6yPmDGNl5yz",
        "outputId": "2f32f98c-172d-4f71-817d-cf6c1f4b56df"
      },
      "execution_count": null,
      "outputs": [
        {
          "output_type": "stream",
          "name": "stdout",
          "text": [
            "[[0. 0. 0. 0. 0. 0.]\n",
            " [0. 0. 0. 0. 0. 0.]\n",
            " [0. 0. 0. 0. 0. 0.]\n",
            " [0. 0. 0. 0. 0. 0.]]\n"
          ]
        }
      ]
    },
    {
      "cell_type": "markdown",
      "source": [
        "2. Create a 5x5 matrix filled with all ones."
      ],
      "metadata": {
        "id": "h2FIk_vNmvRa"
      }
    },
    {
      "cell_type": "code",
      "source": [
        "a = np.ones((5, 5))\n",
        "print(a)"
      ],
      "metadata": {
        "colab": {
          "base_uri": "https://localhost:8080/"
        },
        "id": "brCfmuw0m-yW",
        "outputId": "2da74f55-a78e-46ec-ce2c-8dd7745708df"
      },
      "execution_count": null,
      "outputs": [
        {
          "output_type": "stream",
          "name": "stdout",
          "text": [
            "[[1. 1. 1. 1. 1.]\n",
            " [1. 1. 1. 1. 1.]\n",
            " [1. 1. 1. 1. 1.]\n",
            " [1. 1. 1. 1. 1.]\n",
            " [1. 1. 1. 1. 1.]]\n"
          ]
        }
      ]
    },
    {
      "cell_type": "markdown",
      "source": [
        "3.Create a matrix of (4,5) filled with 4."
      ],
      "metadata": {
        "id": "QI3JcIBRQgdV"
      }
    },
    {
      "cell_type": "code",
      "source": [
        "a = np.full((4, 5), 4)\n",
        "print(a)"
      ],
      "metadata": {
        "colab": {
          "base_uri": "https://localhost:8080/"
        },
        "id": "yNZmcJQYQnTq",
        "outputId": "d4be24f0-922e-4da9-eb52-6544cc170f0d"
      },
      "execution_count": null,
      "outputs": [
        {
          "output_type": "stream",
          "name": "stdout",
          "text": [
            "[[4 4 4 4 4]\n",
            " [4 4 4 4 4]\n",
            " [4 4 4 4 4]\n",
            " [4 4 4 4 4]]\n"
          ]
        }
      ]
    },
    {
      "cell_type": "markdown",
      "source": [
        "For questions 4-13, consider the matrix\n",
        "\n",
        "a=[[1,2,3],[1,4,5],[8,4,2]]\n",
        "\n",
        "\n",
        "4. Write a code to get print the shape of the given matrix.\n",
        "\n",
        "\n"
      ],
      "metadata": {
        "id": "9EPUHqRWxUGG"
      }
    },
    {
      "cell_type": "code",
      "source": [
        "a = np.matrix([[1,2,3],[1,4,5],[8,4,2]])\n",
        "print(a.shape)"
      ],
      "metadata": {
        "colab": {
          "base_uri": "https://localhost:8080/"
        },
        "id": "wvDHpmw8xUf0",
        "outputId": "e3644654-f6f2-445f-9e47-f87aae429ced"
      },
      "execution_count": null,
      "outputs": [
        {
          "output_type": "stream",
          "name": "stdout",
          "text": [
            "(3, 3)\n"
          ]
        }
      ]
    },
    {
      "cell_type": "markdown",
      "source": [
        "5.Write the code to print number of elements in a."
      ],
      "metadata": {
        "id": "8RZy077YyOCP"
      }
    },
    {
      "cell_type": "code",
      "source": [
        "num_elements = a.size\n",
        "print(\"Number of elements in 'a':\", num_elements)"
      ],
      "metadata": {
        "colab": {
          "base_uri": "https://localhost:8080/"
        },
        "id": "52TT7eTmyOec",
        "outputId": "a1a6d424-9db9-44a4-f756-02effaf7f4f3"
      },
      "execution_count": null,
      "outputs": [
        {
          "output_type": "stream",
          "name": "stdout",
          "text": [
            "Number of elements in 'a': 9\n"
          ]
        }
      ]
    },
    {
      "cell_type": "markdown",
      "source": [
        "6. Print the 2nd row,1st column and element at (1,2) of a."
      ],
      "metadata": {
        "id": "luN65JwsywXF"
      }
    },
    {
      "cell_type": "code",
      "source": [
        "# Entire 2nd row\n",
        "second_row = a[1, :]\n",
        "print(second_row)\n",
        "\n",
        "# Entire 2nd column\n",
        "second_column = a[:, 1]\n",
        "print(second_column)\n",
        "\n",
        "# Printing the element at (1, 2) position (Python indexing starts from 0)\n",
        "element_1_2_position = a[1, 2]\n",
        "print(element_1_2_position)"
      ],
      "metadata": {
        "colab": {
          "base_uri": "https://localhost:8080/"
        },
        "id": "3vaGSKkvywqE",
        "outputId": "f2d21b70-36fe-4aa8-aef2-f3b0ba1b23f9"
      },
      "execution_count": null,
      "outputs": [
        {
          "output_type": "stream",
          "name": "stdout",
          "text": [
            "[[1 4 5]]\n",
            "[[2]\n",
            " [4]\n",
            " [4]]\n",
            "5\n"
          ]
        }
      ]
    },
    {
      "cell_type": "markdown",
      "source": [
        "7. Change the element at (2,1) to 5."
      ],
      "metadata": {
        "id": "Tl8iW0SB0SAz"
      }
    },
    {
      "cell_type": "code",
      "source": [
        "# Changing the element at (2, 1) to 5\n",
        "a[2, 1] = 5\n",
        "\n",
        "print(\"Matrix a after changing the element at (2, 1) to 5:\")\n",
        "print(a)"
      ],
      "metadata": {
        "colab": {
          "base_uri": "https://localhost:8080/"
        },
        "id": "X-J4EVFy0SX9",
        "outputId": "0bbd8c3c-92b9-4bb4-d79b-0e2d83cb4b2e"
      },
      "execution_count": null,
      "outputs": [
        {
          "output_type": "stream",
          "name": "stdout",
          "text": [
            "Matrix a after changing the element at (2, 1) to 5:\n",
            "[[1 2 3]\n",
            " [1 4 5]\n",
            " [8 5 2]]\n"
          ]
        }
      ]
    },
    {
      "cell_type": "markdown",
      "source": [
        "8. Print the first and the last element of the first row using stepsize approach."
      ],
      "metadata": {
        "id": "_ZEJ3V01OCPv"
      }
    },
    {
      "cell_type": "code",
      "source": [
        "print(\"First element of the first row:\", a[0, 0])\n",
        "print(\"Last element of the first row:\", a[0, -1])"
      ],
      "metadata": {
        "colab": {
          "base_uri": "https://localhost:8080/"
        },
        "id": "Ls6bN0l8OCfI",
        "outputId": "b39356c1-9c96-430d-f20f-015ee61c21f3"
      },
      "execution_count": null,
      "outputs": [
        {
          "output_type": "stream",
          "name": "stdout",
          "text": [
            "First element of the first row: 1\n",
            "Last element of the first row: 3\n"
          ]
        }
      ]
    },
    {
      "cell_type": "markdown",
      "source": [
        "9. Print the maximum and minimum values of a."
      ],
      "metadata": {
        "id": "q5uREqwgPMPz"
      }
    },
    {
      "cell_type": "code",
      "source": [
        "# Maximum value in matrix a\n",
        "max_value = np.max(a)\n",
        "print(\"Maximum value in matrix a:\", max_value)\n",
        "\n",
        "# Minimum value in matrix a\n",
        "min_value = np.min(a)\n",
        "print(\"Minimum value in matrix a:\", min_value)"
      ],
      "metadata": {
        "colab": {
          "base_uri": "https://localhost:8080/"
        },
        "id": "boAOEPupPrld",
        "outputId": "3cfe16f4-0eb7-4d62-83d3-f10a0bf737ca"
      },
      "execution_count": null,
      "outputs": [
        {
          "output_type": "stream",
          "name": "stdout",
          "text": [
            "Maximum value in matrix a: 8\n",
            "Minimum value in matrix a: 1\n"
          ]
        }
      ]
    },
    {
      "cell_type": "markdown",
      "source": [
        "10. Print row-wise maximum values and their indicies of a."
      ],
      "metadata": {
        "id": "9QElTp8gP8QW"
      }
    },
    {
      "cell_type": "code",
      "source": [
        "# Row-wise maximum values\n",
        "max_values = np.max(a, axis=1)\n",
        "print(max_values)\n",
        "\n",
        "# Indices of row-wise maximum values\n",
        "max_indices = np.argmax(a, axis=1)\n",
        "print(max_indices)"
      ],
      "metadata": {
        "colab": {
          "base_uri": "https://localhost:8080/"
        },
        "id": "O5L3zh78QEf_",
        "outputId": "eceffce0-6c8d-4dbe-954f-1344a0308ae2"
      },
      "execution_count": null,
      "outputs": [
        {
          "output_type": "stream",
          "name": "stdout",
          "text": [
            "[[3]\n",
            " [5]\n",
            " [8]]\n",
            "[[2]\n",
            " [2]\n",
            " [0]]\n"
          ]
        }
      ]
    },
    {
      "cell_type": "markdown",
      "source": [
        "11. Divide all the elements of a by 4."
      ],
      "metadata": {
        "id": "0IE744FoQSWG"
      }
    },
    {
      "cell_type": "code",
      "source": [
        "print(a/4)"
      ],
      "metadata": {
        "colab": {
          "base_uri": "https://localhost:8080/"
        },
        "id": "oPCET_aGRUZs",
        "outputId": "9549c64a-80ff-4f96-9271-4ba8f901abb1"
      },
      "execution_count": null,
      "outputs": [
        {
          "output_type": "stream",
          "name": "stdout",
          "text": [
            "[[0.25 0.5  0.75]\n",
            " [0.25 1.   1.25]\n",
            " [2.   1.25 0.5 ]]\n"
          ]
        }
      ]
    },
    {
      "cell_type": "markdown",
      "source": [
        "12. Sort a along the second axis."
      ],
      "metadata": {
        "id": "XJC4bsKqZGH5"
      }
    },
    {
      "cell_type": "code",
      "source": [
        "# Sort along the second axis (axis=1), with the first axis being axis = 0\n",
        "sorted_a = np.sort(a, axis=1)\n",
        "\n",
        "print(sorted_a)"
      ],
      "metadata": {
        "colab": {
          "base_uri": "https://localhost:8080/"
        },
        "id": "KNvZ1--cZJqQ",
        "outputId": "be7a73ef-c028-4823-e53b-7e9b3ef1acdd"
      },
      "execution_count": null,
      "outputs": [
        {
          "output_type": "stream",
          "name": "stdout",
          "text": [
            "[[1 2 3]\n",
            " [1 4 5]\n",
            " [2 5 8]]\n"
          ]
        }
      ]
    },
    {
      "cell_type": "markdown",
      "source": [
        "13. Print the indices that would sort a along the second axis."
      ],
      "metadata": {
        "id": "sJwxQ-DFZOab"
      }
    },
    {
      "cell_type": "code",
      "source": [
        "# Indices that would sort 'a' along the second axis (axis=1)\n",
        "sorted_indices = np.argsort(a, axis=1)\n",
        "\n",
        "print(sorted_indices)"
      ],
      "metadata": {
        "colab": {
          "base_uri": "https://localhost:8080/"
        },
        "id": "MunD903tZVD-",
        "outputId": "5c5a696f-038d-4f20-b67d-d7e4665a6ac0"
      },
      "execution_count": null,
      "outputs": [
        {
          "output_type": "stream",
          "name": "stdout",
          "text": [
            "[[0 1 2]\n",
            " [0 1 2]\n",
            " [2 1 0]]\n"
          ]
        }
      ]
    },
    {
      "cell_type": "markdown",
      "source": [
        "14. Create an identity matrix of size 6x6."
      ],
      "metadata": {
        "id": "BoUOb-UORXum"
      }
    },
    {
      "cell_type": "code",
      "source": [
        "# Creating a 6x6 identity matrix using np.identity()\n",
        "identity_matrix = np.identity(6)\n",
        "\n",
        "print(identity_matrix)"
      ],
      "metadata": {
        "colab": {
          "base_uri": "https://localhost:8080/"
        },
        "id": "Pgt0H_6tRmMg",
        "outputId": "09fc1e7f-980d-4a79-e92f-2715127c23d7"
      },
      "execution_count": null,
      "outputs": [
        {
          "output_type": "stream",
          "name": "stdout",
          "text": [
            "[[1. 0. 0. 0. 0. 0.]\n",
            " [0. 1. 0. 0. 0. 0.]\n",
            " [0. 0. 1. 0. 0. 0.]\n",
            " [0. 0. 0. 1. 0. 0.]\n",
            " [0. 0. 0. 0. 1. 0.]\n",
            " [0. 0. 0. 0. 0. 1.]]\n"
          ]
        }
      ]
    },
    {
      "cell_type": "markdown",
      "source": [
        "15. Let b=[1,4,3,2,6,8,5,4,2,0], split b into 3 arrays each of 3,4,3 elements."
      ],
      "metadata": {
        "id": "4flSMoMVRrwm"
      }
    },
    {
      "cell_type": "code",
      "source": [
        "b = np.array([1, 4, 3, 2, 6, 8, 5, 4, 2, 0])\n",
        "\n",
        "# Splitting 'b' into arrays of 3, 4, and 3 elements\n",
        "split_arrays = np.split(b, [3, 7])\n",
        "# Split b at indices at 3 and 7 to get arrays of 3, 4, and 3 elements\n",
        "\n",
        "print(\"Split arrays:\")\n",
        "for arr in split_arrays:\n",
        "    print(arr)"
      ],
      "metadata": {
        "id": "j2d8D-mfRWxI",
        "colab": {
          "base_uri": "https://localhost:8080/"
        },
        "outputId": "8a5c3937-47ab-4c3f-d96d-f58a3361cd6f"
      },
      "execution_count": null,
      "outputs": [
        {
          "output_type": "stream",
          "name": "stdout",
          "text": [
            "Split arrays:\n",
            "[1 4 3]\n",
            "[2 6 8 5]\n",
            "[4 2 0]\n"
          ]
        }
      ]
    },
    {
      "cell_type": "markdown",
      "source": [
        "16.Create a 1-D array of 40 evenly spaced elements between 0. and 1., inclusive."
      ],
      "metadata": {
        "id": "ZiDMu4HQzzh4"
      }
    },
    {
      "cell_type": "code",
      "source": [
        "# Create a 1-D array of 40 evenly spaced elements between 0 and 1\n",
        "evenly_spaced_array = np.linspace(0, 1, 40)\n",
        "\n",
        "print(evenly_spaced_array)"
      ],
      "metadata": {
        "colab": {
          "base_uri": "https://localhost:8080/"
        },
        "id": "ZUqfFQAZzydo",
        "outputId": "c5a641c3-08b9-440d-ce3b-34b2c4ddbef7"
      },
      "execution_count": null,
      "outputs": [
        {
          "output_type": "stream",
          "name": "stdout",
          "text": [
            "[0.         0.02564103 0.05128205 0.07692308 0.1025641  0.12820513\n",
            " 0.15384615 0.17948718 0.20512821 0.23076923 0.25641026 0.28205128\n",
            " 0.30769231 0.33333333 0.35897436 0.38461538 0.41025641 0.43589744\n",
            " 0.46153846 0.48717949 0.51282051 0.53846154 0.56410256 0.58974359\n",
            " 0.61538462 0.64102564 0.66666667 0.69230769 0.71794872 0.74358974\n",
            " 0.76923077 0.79487179 0.82051282 0.84615385 0.87179487 0.8974359\n",
            " 0.92307692 0.94871795 0.97435897 1.        ]\n"
          ]
        }
      ]
    },
    {
      "cell_type": "markdown",
      "source": [
        "17. Mutliply given arrays element-wise.\n",
        "\n",
        "a=[[4,7,2],[1,3,9]]\n",
        "\n",
        "b=[[1,5,0],[2,7,5]]"
      ],
      "metadata": {
        "id": "U4BSpQosnREt"
      }
    },
    {
      "cell_type": "code",
      "source": [
        "a = np.array([[4, 7, 2], [1, 3, 9]])\n",
        "b = np.array([[1, 5, 0], [2, 7, 5]])\n",
        "\n",
        "# Element-wise multiplication of arrays a and b\n",
        "result = a * b\n",
        "\n",
        "print(result)"
      ],
      "metadata": {
        "colab": {
          "base_uri": "https://localhost:8080/"
        },
        "id": "3cDb_yGInQBP",
        "outputId": "3afac33f-4a4a-46ac-c672-0966cb4d1002"
      },
      "execution_count": null,
      "outputs": [
        {
          "output_type": "stream",
          "name": "stdout",
          "text": [
            "[[ 4 35  0]\n",
            " [ 2 21 45]]\n"
          ]
        }
      ]
    },
    {
      "cell_type": "markdown",
      "source": [
        "18. Create a 3x2 array with random values from 0 to 1."
      ],
      "metadata": {
        "id": "eTjRvsNmo1dm"
      }
    },
    {
      "cell_type": "code",
      "source": [
        "# Create a 3x2 array with random values between 0 and 1\n",
        "random_array = np.random.rand(3, 2)\n",
        "\n",
        "print(random_array)"
      ],
      "metadata": {
        "colab": {
          "base_uri": "https://localhost:8080/"
        },
        "id": "9OaI6Vjd0_3Z",
        "outputId": "8f8620ee-e0b3-42a1-cae6-928b5028011e"
      },
      "execution_count": null,
      "outputs": [
        {
          "output_type": "stream",
          "name": "stdout",
          "text": [
            "[[0.91571935 0.46161929]\n",
            " [0.3029408  0.20728249]\n",
            " [0.91013246 0.73916609]]\n"
          ]
        }
      ]
    }
  ]
}